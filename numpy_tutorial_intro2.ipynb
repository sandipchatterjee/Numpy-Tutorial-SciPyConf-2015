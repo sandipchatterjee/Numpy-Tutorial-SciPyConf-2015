{
 "cells": [
  {
   "cell_type": "code",
   "execution_count": 1,
   "metadata": {
    "collapsed": true
   },
   "outputs": [],
   "source": [
    "import numpy as np"
   ]
  },
  {
   "cell_type": "code",
   "execution_count": 2,
   "metadata": {
    "collapsed": false
   },
   "outputs": [
    {
     "data": {
      "text/plain": [
       "array([0, 1, 2, 3])"
      ]
     },
     "execution_count": 2,
     "metadata": {},
     "output_type": "execute_result"
    }
   ],
   "source": [
    "# Simple array creation\n",
    "\n",
    "a = np.array([0,1,2,3])\n",
    "a"
   ]
  },
  {
   "cell_type": "code",
   "execution_count": 3,
   "metadata": {
    "collapsed": false
   },
   "outputs": [
    {
     "data": {
      "text/plain": [
       "numpy.ndarray"
      ]
     },
     "execution_count": 3,
     "metadata": {},
     "output_type": "execute_result"
    }
   ],
   "source": [
    "# checking type\n",
    "type(a)"
   ]
  },
  {
   "cell_type": "code",
   "execution_count": 4,
   "metadata": {
    "collapsed": false
   },
   "outputs": [
    {
     "data": {
      "text/plain": [
       "dtype('int64')"
      ]
     },
     "execution_count": 4,
     "metadata": {},
     "output_type": "execute_result"
    }
   ],
   "source": [
    "# numeric 'type' of elements -- the more interesting \"type\"\n",
    "\n",
    "a.dtype"
   ]
  },
  {
   "cell_type": "code",
   "execution_count": 5,
   "metadata": {
    "collapsed": false
   },
   "outputs": [
    {
     "data": {
      "text/plain": [
       "8"
      ]
     },
     "execution_count": 5,
     "metadata": {},
     "output_type": "execute_result"
    }
   ],
   "source": [
    "# bytes per element\n",
    "a.itemsize"
   ]
  },
  {
   "cell_type": "code",
   "execution_count": 6,
   "metadata": {
    "collapsed": false
   },
   "outputs": [
    {
     "name": "stdout",
     "output_type": "stream",
     "text": [
      "(4,)\n",
      "(4,)\n"
     ]
    }
   ],
   "source": [
    "# array shape\n",
    "\n",
    "print(a.shape)\n",
    "\n",
    "print(np.shape(a))"
   ]
  },
  {
   "cell_type": "code",
   "execution_count": 7,
   "metadata": {
    "collapsed": false
   },
   "outputs": [
    {
     "name": "stdout",
     "output_type": "stream",
     "text": [
      "4\n",
      "4\n"
     ]
    }
   ],
   "source": [
    "# Size reports the entire number of elements in an array\n",
    "\n",
    "print(a.size)\n",
    "\n",
    "print(np.size(a))"
   ]
  },
  {
   "cell_type": "code",
   "execution_count": 8,
   "metadata": {
    "collapsed": false
   },
   "outputs": [
    {
     "data": {
      "text/plain": [
       "32"
      ]
     },
     "execution_count": 8,
     "metadata": {},
     "output_type": "execute_result"
    }
   ],
   "source": [
    "# bytes of memory used\n",
    "\n",
    "# return the number of bytes used by the data portion of the array\n",
    "\n",
    "a.nbytes"
   ]
  },
  {
   "cell_type": "code",
   "execution_count": 9,
   "metadata": {
    "collapsed": false
   },
   "outputs": [
    {
     "data": {
      "text/plain": [
       "1"
      ]
     },
     "execution_count": 9,
     "metadata": {},
     "output_type": "execute_result"
    }
   ],
   "source": [
    "# number of dimensions\n",
    "\n",
    "a.ndim"
   ]
  },
  {
   "cell_type": "code",
   "execution_count": 10,
   "metadata": {
    "collapsed": false
   },
   "outputs": [
    {
     "name": "stdout",
     "output_type": "stream",
     "text": [
      "0\n",
      "[10  1  2  3]\n"
     ]
    }
   ],
   "source": [
    "# array indexing\n",
    "\n",
    "# standard 0-based indexing\n",
    "\n",
    "print(a[0])\n",
    "\n",
    "a[0] = 10\n",
    "\n",
    "print(a)"
   ]
  },
  {
   "cell_type": "code",
   "execution_count": 11,
   "metadata": {
    "collapsed": false
   },
   "outputs": [
    {
     "name": "stdout",
     "output_type": "stream",
     "text": [
      "[0 0 0 0]\n",
      "[1 1 1 1]\n"
     ]
    }
   ],
   "source": [
    "# fill\n",
    "\n",
    "# set all values in an array\n",
    "\n",
    "a.fill(0)\n",
    "print(a)\n",
    "\n",
    "# this also works, but may be slower\n",
    "\n",
    "a[:] = 1\n",
    "print(a)"
   ]
  },
  {
   "cell_type": "code",
   "execution_count": 12,
   "metadata": {
    "collapsed": false
   },
   "outputs": [
    {
     "name": "stdout",
     "output_type": "stream",
     "text": [
      "int64\n",
      "[10  1  1  1]\n",
      "[-4 -4 -4 -4]\n"
     ]
    }
   ],
   "source": [
    "# Beware of type coercion\n",
    "\n",
    "print(a.dtype)\n",
    "\n",
    "# assigning a float into an int32 array truncates the decimal part\n",
    "a[0] = 10.6\n",
    "print(a)\n",
    "\n",
    "# fill has the same behavior\n",
    "a.fill(-4.8)\n",
    "print(a)"
   ]
  },
  {
   "cell_type": "markdown",
   "metadata": {},
   "source": [
    "## Slicing\n",
    "\n",
    "`var[lower:upper:step]`\n",
    "\n",
    "Extracts a portion of a sequence by specifying a lower and upper bound.\n",
    "\n",
    "**The lower-bound element *is* included, but the upper-bound element is *not* included.**\n",
    "\n",
    "Mathematically: [lower, upper]. The step value specifies the ***stride*** between elements."
   ]
  },
  {
   "cell_type": "code",
   "execution_count": 14,
   "metadata": {
    "collapsed": false
   },
   "outputs": [
    {
     "data": {
      "text/plain": [
       "array([11, 12])"
      ]
     },
     "execution_count": 14,
     "metadata": {},
     "output_type": "execute_result"
    }
   ],
   "source": [
    "# Slicing arrays\n",
    "\n",
    "# indices: 0 1 2 3 4\n",
    "\n",
    "a = np.array([10,11,12,13,14])\n",
    "a[1:3]"
   ]
  },
  {
   "cell_type": "code",
   "execution_count": 15,
   "metadata": {
    "collapsed": false
   },
   "outputs": [
    {
     "name": "stdout",
     "output_type": "stream",
     "text": [
      "[11 12]\n",
      "[11 12]\n"
     ]
    }
   ],
   "source": [
    "# negative indices work also\n",
    "\n",
    "print(a[1:-2])\n",
    "\n",
    "print(a[-4:3])"
   ]
  },
  {
   "cell_type": "code",
   "execution_count": 18,
   "metadata": {
    "collapsed": false
   },
   "outputs": [
    {
     "name": "stdout",
     "output_type": "stream",
     "text": [
      "full array [10 11 12 13 14]\n",
      "first three [10 11 12]\n",
      "last two [13 14]\n",
      "every other element [10 12 14]\n",
      "every other element (odds) [11 13]\n"
     ]
    }
   ],
   "source": [
    "# omitting indices\n",
    "\n",
    "# omitted boundaries are assumed to be the beginning (or end) of the list\n",
    "\n",
    "print('full array', a)\n",
    "\n",
    "# grab first three elements\n",
    "print('first three', a[:3])\n",
    "\n",
    "# grab last two elements\n",
    "print('last two', a[-2:])\n",
    "\n",
    "# every other element\n",
    "print('every other element', a[::2])\n",
    "\n",
    "# every other element, odd elements\n",
    "print('every other element (odds)', a[1::2])"
   ]
  },
  {
   "cell_type": "markdown",
   "metadata": {},
   "source": [
    "### sum vs. cumsum"
   ]
  },
  {
   "cell_type": "code",
   "execution_count": 20,
   "metadata": {
    "collapsed": false
   },
   "outputs": [
    {
     "name": "stdout",
     "output_type": "stream",
     "text": [
      "array a [10 11 12 13 14]\n",
      "sum(a) 60\n",
      "cumsum(a) [10 21 33 46 60]\n"
     ]
    }
   ],
   "source": [
    "print('array a', a)\n",
    "print('sum(a)', np.sum(a)) # returns a scalar\n",
    "print('cumsum(a)', np.cumsum(a)) # returns an array where each element is the sum of the previous elements"
   ]
  },
  {
   "cell_type": "code",
   "execution_count": null,
   "metadata": {
    "collapsed": true
   },
   "outputs": [],
   "source": []
  }
 ],
 "metadata": {
  "kernelspec": {
   "display_name": "Python 3",
   "language": "python",
   "name": "python3"
  },
  "language_info": {
   "codemirror_mode": {
    "name": "ipython",
    "version": 3
   },
   "file_extension": ".py",
   "mimetype": "text/x-python",
   "name": "python",
   "nbconvert_exporter": "python",
   "pygments_lexer": "ipython3",
   "version": "3.5.1"
  }
 },
 "nbformat": 4,
 "nbformat_minor": 0
}
