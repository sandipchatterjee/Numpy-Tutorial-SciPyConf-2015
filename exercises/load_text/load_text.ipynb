{
 "cells": [
  {
   "cell_type": "markdown",
   "metadata": {},
   "source": [
    "\n",
    "Load Array from Text File\n",
    "-------------------------\n",
    "\n",
    "0. From the IPython prompt, type::\n",
    "\n",
    "        In [1]: loadtxt?\n",
    "\n",
    "   to see the options on how to use the loadtxt command.\n",
    "\n",
    "\n",
    "1. Use loadtxt to load in a 2D array of floating point values from\n",
    "   'float_data.txt'.  The data in the file looks like::\n",
    "\n",
    "        1 2 3 4\n",
    "        5 6 7 8\n",
    "\n",
    "   The resulting data should be a 2x4 array of floating point values.\n",
    "\n",
    "2. In the second example, the file 'float_data_with_header.txt' has\n",
    "   strings as column names in the first row::\n",
    "\n",
    "        c1 c2 c3 c4\n",
    "         1  2  3  4\n",
    "         5  6  7  8\n",
    "\n",
    "   Ignore these column names, and read the remainder of the data into\n",
    "   a 2D array.\n",
    "\n",
    "   Later on, we'll learn how to create a \"structured array\" using\n",
    "   these column names to create fields within an array.\n",
    "\n",
    "Bonus\n",
    "~~~~~\n",
    "\n",
    "3. A third example is more involved (the file is called\n",
    "   'complex_data_file.txt'). It contains comments in multiple\n",
    "   locations, uses multiple formats, and includes a useless column to\n",
    "   skip::\n",
    "\n",
    "    -- THIS IS THE BEGINNING OF THE FILE --\n",
    "    % This is a more complex file to read!\n",
    "\n",
    "    % Day,  Month,  Year, Useless Col, Avg Power\n",
    "       01,     01,  2000,      ad766,         30\n",
    "       02,     01,  2000,       t873,         41\n",
    "    % we don't have Jan 03rd!\n",
    "       04,     01,  2000,       r441,         55\n",
    "       05,     01,  2000,       s345,         78\n",
    "       06,     01,  2000,       x273,        134 % that day was crazy\n",
    "       07,     01,  2000,       x355,         42\n",
    "\n",
    "    %-- THIS IS THE END OF THE FILE --\n",
    "\n",
    "\n",
    "See :ref:`load-text-solution`\n"
   ]
  },
  {
   "cell_type": "code",
   "execution_count": 1,
   "metadata": {
    "collapsed": true
   },
   "outputs": [],
   "source": [
    "import numpy as np"
   ]
  },
  {
   "cell_type": "code",
   "execution_count": 2,
   "metadata": {
    "collapsed": false
   },
   "outputs": [
    {
     "data": {
      "text/plain": [
       "array([[ 1.,  2.,  3.,  4.],\n",
       "       [ 5.,  6.,  7.,  8.]])"
      ]
     },
     "execution_count": 2,
     "metadata": {},
     "output_type": "execute_result"
    }
   ],
   "source": [
    "# exercise 1\n",
    "\n",
    "np.loadtxt('float_data.txt')"
   ]
  },
  {
   "cell_type": "code",
   "execution_count": 3,
   "metadata": {
    "collapsed": false,
    "scrolled": true
   },
   "outputs": [
    {
     "data": {
      "text/plain": [
       "array([[ 1.,  2.,  3.,  4.],\n",
       "       [ 5.,  6.,  7.,  8.]])"
      ]
     },
     "execution_count": 3,
     "metadata": {},
     "output_type": "execute_result"
    }
   ],
   "source": [
    "# exercise 2\n",
    "\n",
    "np.loadtxt('float_data_with_header.txt', skiprows=1)"
   ]
  },
  {
   "cell_type": "markdown",
   "metadata": {},
   "source": [
    "#### bonus exercise 1"
   ]
  },
  {
   "cell_type": "code",
   "execution_count": 4,
   "metadata": {
    "collapsed": false
   },
   "outputs": [
    {
     "name": "stdout",
     "output_type": "stream",
     "text": [
      "-- THIS IS THE BEGINNING OF THE FILE --\r",
      "\r\n",
      "% This is a more complex file to read!\r",
      "\r\n",
      "\r",
      "\r\n",
      "% Day,  Month,  Year, Useless Col, Avg Power\r",
      "\r\n",
      "   01,     01,  2000,      ad766,         30 \r",
      "\r\n",
      "   02,     01,  2000,       t873,         41\r",
      "\r\n",
      "% we don't have Jan 03rd!\r",
      "\r\n",
      "   04,     01,  2000,       r441,         55\r",
      "\r\n",
      "   05,     01,  2000,       s345,         78\r",
      "\r\n",
      "   06,     01,  2000,       x273,        134 % that day was crazy\r",
      "\r\n",
      "   07,     01,  2000,       x355,         42\r",
      "\r\n",
      "\r",
      "\r\n",
      "%-- THIS IS THE END OF THE FILE --\r",
      "\r\n"
     ]
    }
   ],
   "source": [
    "!cat complex_data_file.txt"
   ]
  },
  {
   "cell_type": "code",
   "execution_count": 5,
   "metadata": {
    "collapsed": false
   },
   "outputs": [
    {
     "data": {
      "text/plain": [
       "array([[   1,    1, 2000,   30],\n",
       "       [   2,    1, 2000,   41],\n",
       "       [   4,    1, 2000,   55],\n",
       "       [   5,    1, 2000,   78],\n",
       "       [   6,    1, 2000,  134],\n",
       "       [   7,    1, 2000,   42]])"
      ]
     },
     "execution_count": 5,
     "metadata": {},
     "output_type": "execute_result"
    }
   ],
   "source": [
    "np.loadtxt('complex_data_file.txt', \n",
    "           skiprows=1, \n",
    "           usecols=(0,1,2,4), \n",
    "           delimiter=',', \n",
    "           comments='%', \n",
    "           dtype=int\n",
    "          )"
   ]
  },
  {
   "cell_type": "code",
   "execution_count": null,
   "metadata": {
    "collapsed": true
   },
   "outputs": [],
   "source": []
  }
 ],
 "metadata": {
  "kernelspec": {
   "display_name": "Python 3",
   "language": "python",
   "name": "python3"
  },
  "language_info": {
   "codemirror_mode": {
    "name": "ipython",
    "version": 3
   },
   "file_extension": ".py",
   "mimetype": "text/x-python",
   "name": "python",
   "nbconvert_exporter": "python",
   "pygments_lexer": "ipython3",
   "version": "3.5.1"
  }
 },
 "nbformat": 4,
 "nbformat_minor": 0
}
