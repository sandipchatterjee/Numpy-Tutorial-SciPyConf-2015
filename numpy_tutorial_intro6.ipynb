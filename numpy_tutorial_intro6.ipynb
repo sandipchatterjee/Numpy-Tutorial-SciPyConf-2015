{
 "cells": [
  {
   "cell_type": "code",
   "execution_count": 1,
   "metadata": {
    "collapsed": true
   },
   "outputs": [],
   "source": [
    "%matplotlib inline\n",
    "\n",
    "import matplotlib.pyplot as plt\n",
    "import numpy as np"
   ]
  },
  {
   "cell_type": "markdown",
   "metadata": {},
   "source": [
    "## Array Creation Functions (cont.)\n",
    "\n",
    "### `linspace`\n",
    "\n",
    "** Generate *N* evenly spaced elements between (and *including*) start and stop values**"
   ]
  },
  {
   "cell_type": "code",
   "execution_count": 2,
   "metadata": {
    "collapsed": false
   },
   "outputs": [
    {
     "data": {
      "text/plain": [
       "array([ 0.  ,  0.25,  0.5 ,  0.75,  1.  ])"
      ]
     },
     "execution_count": 2,
     "metadata": {},
     "output_type": "execute_result"
    }
   ],
   "source": [
    "np.linspace(0, 1, 5)"
   ]
  },
  {
   "cell_type": "markdown",
   "metadata": {},
   "source": [
    "### `logspace`\n",
    "\n",
    "**Generate *N* evenly spaced elements on a log scale between base\\*\\*start and base\\*\\*stop (default base=10)**"
   ]
  },
  {
   "cell_type": "code",
   "execution_count": 3,
   "metadata": {
    "collapsed": false
   },
   "outputs": [
    {
     "data": {
      "text/plain": [
       "array([  1.        ,   1.77827941,   3.16227766,   5.62341325,  10.        ])"
      ]
     },
     "execution_count": 3,
     "metadata": {},
     "output_type": "execute_result"
    }
   ],
   "source": [
    "np.logspace(0, 1, 5)"
   ]
  },
  {
   "cell_type": "markdown",
   "metadata": {},
   "source": [
    "### `mgrid`\n",
    "\n",
    "**Get equally spaced points in N output arrays for an N-dimensional (mesh) grid**"
   ]
  },
  {
   "cell_type": "code",
   "execution_count": 4,
   "metadata": {
    "collapsed": false
   },
   "outputs": [
    {
     "data": {
      "text/plain": [
       "array([[0, 0, 0, 0, 0],\n",
       "       [1, 1, 1, 1, 1],\n",
       "       [2, 2, 2, 2, 2],\n",
       "       [3, 3, 3, 3, 3],\n",
       "       [4, 4, 4, 4, 4]])"
      ]
     },
     "execution_count": 4,
     "metadata": {},
     "output_type": "execute_result"
    }
   ],
   "source": [
    "x, y = np.mgrid[0:5, 0:5]\n",
    "x"
   ]
  },
  {
   "cell_type": "code",
   "execution_count": 5,
   "metadata": {
    "collapsed": false
   },
   "outputs": [
    {
     "data": {
      "text/plain": [
       "array([[0, 1, 2, 3, 4],\n",
       "       [0, 1, 2, 3, 4],\n",
       "       [0, 1, 2, 3, 4],\n",
       "       [0, 1, 2, 3, 4],\n",
       "       [0, 1, 2, 3, 4]])"
      ]
     },
     "execution_count": 5,
     "metadata": {},
     "output_type": "execute_result"
    }
   ],
   "source": [
    "y"
   ]
  },
  {
   "cell_type": "markdown",
   "metadata": {},
   "source": [
    "### `ogrid`\n",
    "\n",
    "**Construct an \"open\" grid of points (not filled in but correctly shaped for math operations to be broadcast correctly)**"
   ]
  },
  {
   "cell_type": "code",
   "execution_count": 6,
   "metadata": {
    "collapsed": false
   },
   "outputs": [
    {
     "data": {
      "text/plain": [
       "array([[0],\n",
       "       [1],\n",
       "       [2]])"
      ]
     },
     "execution_count": 6,
     "metadata": {},
     "output_type": "execute_result"
    }
   ],
   "source": [
    "x, y = np.ogrid[0:3, 0:3]\n",
    "x"
   ]
  },
  {
   "cell_type": "code",
   "execution_count": 7,
   "metadata": {
    "collapsed": false
   },
   "outputs": [
    {
     "data": {
      "text/plain": [
       "array([[0, 1, 2]])"
      ]
     },
     "execution_count": 7,
     "metadata": {},
     "output_type": "execute_result"
    }
   ],
   "source": [
    "y"
   ]
  },
  {
   "cell_type": "markdown",
   "metadata": {},
   "source": [
    "## Trig and Other Functions\n",
    "\n",
    "### Trigonometric\n",
    "\n",
    "* `sin(x)`\n",
    "* `cos(x)`\n",
    "* `arccos(x)`\n",
    "* `arctan(x)`\n",
    "* `arcsin(x)`\n",
    "* `arctan2(x, y)`\n",
    "* `sinh(x)`\n",
    "* `cosh(x)`\n",
    "* `arccosh(x)`\n",
    "* `arctanh(x)`\n",
    "* `arcsinh(x)`\n",
    "\n",
    "### Vector Operations\n",
    "\n",
    "* `dot(x, y)`\n",
    "* `x@y`\n",
    "    * *Matrix Multiplication calls an array's **matmult** method:* `a.__matmul__`\n",
    "    * Python 3.5+ only\n",
    "* `inner(x, y)`\n",
    "* `cross(x, y)`\n",
    "* `tensordor(x, y[,axis])`\n",
    "* `vdot(x, y)`\n",
    "* `outer(x, y)`\n",
    "* `kron(x, y)`\n",
    "\n",
    "### Others\n",
    "\n",
    "* `exp(x)`\n",
    "* `log10(x)`\n",
    "* `absolute(x)`\n",
    "* `negative(x)`\n",
    "* `floor(x)`\n",
    "* `hypot(x, y)`\n",
    "    * element-by-element distance calculation: **sqrt(x^2+y^2)**\n",
    "* `maximum(x, y)`\n",
    "* `log(x)`\n",
    "* `sqrt(x)`\n",
    "* `conjugate(x)`\n",
    "* `ceil(x)`\n",
    "* `fabs(x)`\n",
    "* `fmod(x, y)`\n",
    "* `minimum(x, y)`"
   ]
  },
  {
   "cell_type": "markdown",
   "metadata": {},
   "source": [
    "-----\n",
    "\n",
    "## More Basic Functions\n",
    "\n",
    "### Type Handling\n",
    "\n",
    "* `iscomplexobj`\n",
    "* `iscomplex`\n",
    "* `isrealobj`\n",
    "* `isreal`\n",
    "* `imag`\n",
    "* `real`\n",
    "* `real_if_close`\n",
    "* `isscalar`\n",
    "* `isneginf`\n",
    "* `isposinf`\n",
    "* `isinf`\n",
    "* `isfinite`\n",
    "* `isnan`\n",
    "* `nan_to_num`\n",
    "* `common_type`\n",
    "* `typename`\n",
    "\n",
    "### Shape Manipulation\n",
    "\n",
    "* `atleast_1d`\n",
    "* `atleast_2d`\n",
    "* `atleast_3d`\n",
    "* `expand_dims`\n",
    "* `apply_over_axes`\n",
    "* `apply_along_axis`\n",
    "* `hstack`\n",
    "* `vstack`\n",
    "* `dstack`\n",
    "* `column_stack`\n",
    "* `hsplit`\n",
    "* `vsplit`\n",
    "* `dsplit`\n",
    "* `split`\n",
    "* `squeeze`\n",
    "\n",
    "### Other Useful Functions\n",
    "\n",
    "* `fix`\n",
    "* `mod`\n",
    "* `amax`\n",
    "* `amin`\n",
    "* `ptp`\n",
    "* `sum`\n",
    "* `cumsum`\n",
    "* `prod`\n",
    "* `cumprod`\n",
    "* `unwrap`\n",
    "* `sort_complex`\n",
    "* `trim_zeros`\n",
    "* `fliplr`\n",
    "* `flipud`\n",
    "* `rot90`\n",
    "* `eye`\n",
    "* `diag`\n",
    "* `select`\n",
    "* `roots`\n",
    "* `poly`\n",
    "* `any`\n",
    "* `all`\n",
    "* `disp`\n",
    "* `unique`\n",
    "* `diff`\n",
    "* `angle`\n",
    "* `extract`\n",
    "* `insert`\n",
    "\n",
    "### NaN-related Functions\n",
    "\n",
    "* `nansum`\n",
    "* `nanmax`\n",
    "* `nanargmax`\n",
    "* `nanmean`\n",
    "* `nanmin`\n",
    "* `nanmin`\n",
    "* `nanargmin`\n",
    "* `nanstd`\n",
    "* `nanvar`"
   ]
  },
  {
   "cell_type": "markdown",
   "metadata": {},
   "source": [
    "-------\n",
    "\n",
    "## Vectorizing Functions\n",
    "\n",
    "### Scalar `sinc` function\n",
    "\n",
    "**`special.sinc` is already available -- this is just for show**"
   ]
  },
  {
   "cell_type": "code",
   "execution_count": 8,
   "metadata": {
    "collapsed": true
   },
   "outputs": [],
   "source": [
    "def sinc(x):\n",
    "    if x == 0.0:\n",
    "        return 1.0\n",
    "    else:\n",
    "        w = np.pi*x\n",
    "        return np.sin(w) / w"
   ]
  },
  {
   "cell_type": "markdown",
   "metadata": {},
   "source": [
    "**Attempt**\n",
    "\n",
    "    x = np.array((1.3, 1.5))\n",
    "    sinc(x)\n",
    "\n",
    "    ---------------------------------------------------------------------------\n",
    "    ValueError                                Traceback (most recent call last)\n",
    "    <ipython-input-24-f6e1e7e8b02e> in <module>()\n",
    "          1 x = np.array((1.3, 1.5))\n",
    "    ----> 2 sinc(x)\n",
    "\n",
    "    <ipython-input-22-0b49139009a6> in sinc(x)\n",
    "          1 def sinc(x):\n",
    "    ----> 2     if x == 0.0:\n",
    "          3         return 1.0\n",
    "          4     else:\n",
    "          5         w = np.pi*x\n",
    "\n",
    "    ValueError: The truth value of an array with more than one element is ambiguous. Use a.any() or a.all()\n",
    "\n",
    "### Solution"
   ]
  },
  {
   "cell_type": "code",
   "execution_count": 9,
   "metadata": {
    "collapsed": false
   },
   "outputs": [
    {
     "data": {
      "text/plain": [
       "array([[  1.00000000e+00],\n",
       "       [  3.89817183e-17],\n",
       "       [ -3.89817183e-17]])"
      ]
     },
     "execution_count": 9,
     "metadata": {},
     "output_type": "execute_result"
    }
   ],
   "source": [
    "vsinc = np.vectorize(sinc)\n",
    "vsinc(x)"
   ]
  },
  {
   "cell_type": "code",
   "execution_count": 10,
   "metadata": {
    "collapsed": false
   },
   "outputs": [
    {
     "data": {
      "image/png": "[encoded data removed]",
      "text/plain": [
       "<matplotlib.figure.Figure at 0x104ca9710>"
      ]
     },
     "metadata": {},
     "output_type": "display_data"
    }
   ],
   "source": [
    "x2 = np.linspace(-5, 5, 101)\n",
    "plt.plot(x2, vsinc(x2))\n",
    "plt.show()"
   ]
  },
  {
   "cell_type": "code",
   "execution_count": null,
   "metadata": {
    "collapsed": true
   },
   "outputs": [],
   "source": []
  }
 ],
 "metadata": {
  "kernelspec": {
   "display_name": "Python 3",
   "language": "python",
   "name": "python3"
  },
  "language_info": {
   "codemirror_mode": {
    "name": "ipython",
    "version": 3
   },
   "file_extension": ".py",
   "mimetype": "text/x-python",
   "name": "python",
   "nbconvert_exporter": "python",
   "pygments_lexer": "ipython3",
   "version": "3.5.1"
  }
 },
 "nbformat": 4,
 "nbformat_minor": 0
}
