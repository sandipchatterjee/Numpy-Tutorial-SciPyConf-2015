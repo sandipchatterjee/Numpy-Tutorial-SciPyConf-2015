{
 "cells": [
  {
   "cell_type": "code",
   "execution_count": 1,
   "metadata": {
    "collapsed": true
   },
   "outputs": [],
   "source": [
    "import numpy as np"
   ]
  },
  {
   "cell_type": "markdown",
   "metadata": {},
   "source": [
    "## Multi-Dimensional Arrays"
   ]
  },
  {
   "cell_type": "code",
   "execution_count": 2,
   "metadata": {
    "collapsed": false
   },
   "outputs": [
    {
     "data": {
      "text/plain": [
       "array([[ 0,  1,  2,  3],\n",
       "       [10, 11, 12, 13]])"
      ]
     },
     "execution_count": 2,
     "metadata": {},
     "output_type": "execute_result"
    }
   ],
   "source": [
    "a = np.array([[ 0, 1, 2, 3],\n",
    "              [10,11,12,13]])\n",
    "a"
   ]
  },
  {
   "cell_type": "code",
   "execution_count": 3,
   "metadata": {
    "collapsed": false
   },
   "outputs": [
    {
     "data": {
      "text/plain": [
       "(2, 4)"
      ]
     },
     "execution_count": 3,
     "metadata": {},
     "output_type": "execute_result"
    }
   ],
   "source": [
    "# Shape (Rows, Columns)\n",
    "a.shape"
   ]
  },
  {
   "cell_type": "code",
   "execution_count": 4,
   "metadata": {
    "collapsed": false
   },
   "outputs": [
    {
     "data": {
      "text/plain": [
       "8"
      ]
     },
     "execution_count": 4,
     "metadata": {},
     "output_type": "execute_result"
    }
   ],
   "source": [
    "# Element Count\n",
    "\n",
    "a.size"
   ]
  },
  {
   "cell_type": "code",
   "execution_count": 5,
   "metadata": {
    "collapsed": false
   },
   "outputs": [
    {
     "data": {
      "text/plain": [
       "2"
      ]
     },
     "execution_count": 5,
     "metadata": {},
     "output_type": "execute_result"
    }
   ],
   "source": [
    "# Number of dimensions\n",
    "\n",
    "a.ndim"
   ]
  },
  {
   "cell_type": "code",
   "execution_count": 6,
   "metadata": {
    "collapsed": false
   },
   "outputs": [
    {
     "name": "stdout",
     "output_type": "stream",
     "text": [
      "get element at row 1, column 3: 13\n",
      "modified element at same pos\n"
     ]
    },
    {
     "data": {
      "text/plain": [
       "array([[ 0,  1,  2,  3],\n",
       "       [10, 11, 12, -1]])"
      ]
     },
     "execution_count": 6,
     "metadata": {},
     "output_type": "execute_result"
    }
   ],
   "source": [
    "# Get/Set elements\n",
    "\n",
    "print('get element at row 1, column 3:', a[1,3])\n",
    "\n",
    "a[1,3] = -1\n",
    "\n",
    "print('modified element at same pos')\n",
    "a"
   ]
  },
  {
   "cell_type": "code",
   "execution_count": 7,
   "metadata": {
    "collapsed": false
   },
   "outputs": [
    {
     "data": {
      "text/plain": [
       "array([10, 11, 12, -1])"
      ]
     },
     "execution_count": 7,
     "metadata": {},
     "output_type": "execute_result"
    }
   ],
   "source": [
    "# Address second (ONEth) row using single index\n",
    "\n",
    "# STANDARD (non-fancy) indexing -- it's a view (reference), not a copy\n",
    "\n",
    "a[1]"
   ]
  },
  {
   "cell_type": "markdown",
   "metadata": {},
   "source": [
    "## Array Slicing\n",
    "\n",
    "Slices are **references**"
   ]
  },
  {
   "cell_type": "code",
   "execution_count": 8,
   "metadata": {
    "collapsed": false
   },
   "outputs": [
    {
     "data": {
      "text/plain": [
       "array([[ 0,  1,  2,  3,  4,  5],\n",
       "       [10, 11, 12, 13, 14, 15],\n",
       "       [20, 21, 22, 23, 24, 25],\n",
       "       [30, 31, 32, 33, 34, 35],\n",
       "       [40, 41, 42, 43, 44, 45],\n",
       "       [50, 51, 52, 53, 54, 55]])"
      ]
     },
     "execution_count": 8,
     "metadata": {},
     "output_type": "execute_result"
    }
   ],
   "source": [
    "# super hacky 6x6 numpy matrix\n",
    "\n",
    "b = list(range(6))\n",
    "\n",
    "list_matrix = [b]*6\n",
    "list_matrix_mod = [list_matrix[0]]\n",
    "\n",
    "for i, row in enumerate(list_matrix[1:]):\n",
    "    str_list = [str(x) for x in row]\n",
    "    list_matrix_mod.append([int(str(i+1)+x) for x in str_list])\n",
    "\n",
    "b = np.array(list_matrix_mod)\n",
    "b"
   ]
  },
  {
   "cell_type": "code",
   "execution_count": 9,
   "metadata": {
    "collapsed": false
   },
   "outputs": [
    {
     "data": {
      "text/plain": [
       "array([3, 4])"
      ]
     },
     "execution_count": 9,
     "metadata": {},
     "output_type": "execute_result"
    }
   ],
   "source": [
    "# Slicing works much like standard Python slicing\n",
    "\n",
    "b[0, 3:5] # first row, 4th through 5th column"
   ]
  },
  {
   "cell_type": "code",
   "execution_count": 10,
   "metadata": {
    "collapsed": false
   },
   "outputs": [
    {
     "data": {
      "text/plain": [
       "array([[44, 45],\n",
       "       [54, 55]])"
      ]
     },
     "execution_count": 10,
     "metadata": {},
     "output_type": "execute_result"
    }
   ],
   "source": [
    "b[4:, 4:] # 5th+ rows, 5th+ columns"
   ]
  },
  {
   "cell_type": "code",
   "execution_count": 11,
   "metadata": {
    "collapsed": false,
    "scrolled": true
   },
   "outputs": [
    {
     "data": {
      "text/plain": [
       "array([ 2, 12, 22, 32, 42, 52])"
      ]
     },
     "execution_count": 11,
     "metadata": {},
     "output_type": "execute_result"
    }
   ],
   "source": [
    "b[:, 2] # all rows, third column"
   ]
  },
  {
   "cell_type": "code",
   "execution_count": 12,
   "metadata": {
    "collapsed": false
   },
   "outputs": [
    {
     "data": {
      "text/plain": [
       "array([[20, 22, 24],\n",
       "       [40, 42, 44]])"
      ]
     },
     "execution_count": 12,
     "metadata": {},
     "output_type": "execute_result"
    }
   ],
   "source": [
    "# Strides are also possible\n",
    "\n",
    "b[2::2, ::2] # third row through last row, every other element; every column, every row, every other element\n",
    "\n",
    "# this is the same as writing b[2:5:2, 0:5:2]"
   ]
  },
  {
   "cell_type": "code",
   "execution_count": 13,
   "metadata": {
    "collapsed": false,
    "scrolled": false
   },
   "outputs": [
    {
     "name": "stdout",
     "output_type": "stream",
     "text": [
      "a\n",
      "[ 0  1  2  3  4  5  6  7  8  9 10 11 12 13 14 15 16 17 18 19]\n",
      "\n",
      "\n",
      "a, reshaped\n",
      "[[ 0  1  2  3]\n",
      " [ 4  5  6  7]\n",
      " [ 8  9 10 11]\n",
      " [12 13 14 15]\n",
      " [16 17 18 19]]\n",
      "\n",
      "\n",
      "b -- a slice of a (second row only)\n",
      "[ 8  9 10 11]\n",
      "\n",
      "\n",
      "modifying a slice...\n",
      "[-999    9   10   11]\n",
      "\n",
      "\n",
      "...modifies the original array\n",
      "[[   0    1    2    3]\n",
      " [   4    5    6    7]\n",
      " [-999    9   10   11]\n",
      " [  12   13   14   15]\n",
      " [  16   17   18   19]]\n",
      "\n",
      "\n",
      "bb -- a deep copy of b\n",
      "[-999    9   10   11]\n",
      "\n",
      "\n",
      "modifying a copy only modifies that copy\n",
      "bb:\n",
      "[-999 -888   10   11]\n",
      "\n",
      "\n",
      "b:\n",
      "[-999    9   10   11]\n",
      "\n",
      "\n",
      "a:\n",
      "[[   0    1    2    3]\n",
      " [   4    5    6    7]\n",
      " [-999    9   10   11]\n",
      " [  12   13   14   15]\n",
      " [  16   17   18   19]]\n",
      "\n",
      "\n"
     ]
    }
   ],
   "source": [
    "## Remember that these are references (views), not copies. So changes on slices will affect original data.\n",
    "\n",
    "line_end = '\\n'*3\n",
    "\n",
    "a = np.arange(20)\n",
    "print('a')\n",
    "print(a, end=line_end)\n",
    "\n",
    "a = np.reshape(a, (5,4))\n",
    "print('a, reshaped')\n",
    "print(a, end=line_end)\n",
    "\n",
    "b = a[2, :]\n",
    "print('b -- a slice of a (second row only)')\n",
    "print(b, end=line_end)\n",
    "\n",
    "b[0] = -999\n",
    "print('modifying a slice...')\n",
    "print(b, end=line_end)\n",
    "\n",
    "print('...modifies the original array')\n",
    "print(a, end=line_end)\n",
    "\n",
    "bb = b.copy()\n",
    "print('bb -- a deep copy of b')\n",
    "print(bb, end=line_end)\n",
    "\n",
    "bb[1] = -888\n",
    "print('modifying a copy only modifies that copy')\n",
    "print('bb:')\n",
    "print(bb, end=line_end)\n",
    "print('b:')\n",
    "print(b, end=line_end)\n",
    "print('a:')\n",
    "print(a, end=line_end)"
   ]
  },
  {
   "cell_type": "markdown",
   "metadata": {},
   "source": [
    "--------"
   ]
  },
  {
   "cell_type": "markdown",
   "metadata": {},
   "source": [
    "## Fancy indexing\n",
    "\n",
    "Fancy indexing gives you **copies**, ***not references***"
   ]
  },
  {
   "cell_type": "code",
   "execution_count": 14,
   "metadata": {
    "collapsed": false
   },
   "outputs": [
    {
     "data": {
      "text/plain": [
       "array([ 0, 10, 20, 30, 40, 50, 60, 70])"
      ]
     },
     "execution_count": 14,
     "metadata": {},
     "output_type": "execute_result"
    }
   ],
   "source": [
    "# indexing by position\n",
    "\n",
    "a = np.arange(0, 80, 10)\n",
    "a"
   ]
  },
  {
   "cell_type": "code",
   "execution_count": 15,
   "metadata": {
    "collapsed": false
   },
   "outputs": [
    {
     "data": {
      "text/plain": [
       "array([10, 20, 50])"
      ]
     },
     "execution_count": 15,
     "metadata": {},
     "output_type": "execute_result"
    }
   ],
   "source": [
    "# fancy indexing\n",
    "\n",
    "indices = [1, 2, -3]\n",
    "y = a[indices]\n",
    "y"
   ]
  },
  {
   "cell_type": "markdown",
   "metadata": {},
   "source": [
    "### Masking"
   ]
  },
  {
   "cell_type": "code",
   "execution_count": 16,
   "metadata": {
    "collapsed": true
   },
   "outputs": [],
   "source": [
    "%matplotlib inline\n",
    "import matplotlib.pyplot as plt"
   ]
  },
  {
   "cell_type": "code",
   "execution_count": 17,
   "metadata": {
    "collapsed": false
   },
   "outputs": [
    {
     "data": {
      "text/plain": [
       "array([ 0.        ,  0.31415927,  0.62831853,  0.9424778 ,  1.25663706,\n",
       "        1.57079633,  1.88495559,  2.19911486,  2.51327412,  2.82743339,\n",
       "        3.14159265,  3.45575192,  3.76991118,  4.08407045,  4.39822972,\n",
       "        4.71238898,  5.02654825,  5.34070751,  5.65486678,  5.96902604,\n",
       "        6.28318531])"
      ]
     },
     "execution_count": 17,
     "metadata": {},
     "output_type": "execute_result"
    }
   ],
   "source": [
    "a = np.linspace(0, 2*np.pi, 21)\n",
    "a"
   ]
  },
  {
   "cell_type": "code",
   "execution_count": 18,
   "metadata": {
    "collapsed": false
   },
   "outputs": [
    {
     "data": {
      "text/plain": [
       "'%.3f'"
      ]
     },
     "execution_count": 18,
     "metadata": {},
     "output_type": "execute_result"
    }
   ],
   "source": [
    "%precision 3"
   ]
  },
  {
   "cell_type": "code",
   "execution_count": 19,
   "metadata": {
    "collapsed": false
   },
   "outputs": [
    {
     "data": {
      "text/plain": [
       "array([ 0.   ,  0.314,  0.628,  0.942,  1.257,  1.571,  1.885,  2.199,\n",
       "        2.513,  2.827,  3.142,  3.456,  3.77 ,  4.084,  4.398,  4.712,\n",
       "        5.027,  5.341,  5.655,  5.969,  6.283])"
      ]
     },
     "execution_count": 19,
     "metadata": {},
     "output_type": "execute_result"
    }
   ],
   "source": [
    "a"
   ]
  },
  {
   "cell_type": "code",
   "execution_count": 20,
   "metadata": {
    "collapsed": false
   },
   "outputs": [
    {
     "data": {
      "image/png": "[encoded data removed]",
      "text/plain": [
       "<matplotlib.figure.Figure at 0x10d16c8d0>"
      ]
     },
     "metadata": {},
     "output_type": "display_data"
    }
   ],
   "source": [
    "b = np.sin(a)\n",
    "\n",
    "plt.plot(a, b)\n",
    "plt.show()"
   ]
  },
  {
   "cell_type": "markdown",
   "metadata": {},
   "source": [
    "what if someone asked, *what are the values of b >= 0?*"
   ]
  },
  {
   "cell_type": "code",
   "execution_count": 21,
   "metadata": {
    "collapsed": true
   },
   "outputs": [],
   "source": [
    "mask = b >=0"
   ]
  },
  {
   "cell_type": "code",
   "execution_count": 22,
   "metadata": {
    "collapsed": false
   },
   "outputs": [
    {
     "data": {
      "image/png": "[encoded data removed]",
      "text/plain": [
       "<matplotlib.figure.Figure at 0x10d20f9e8>"
      ]
     },
     "metadata": {},
     "output_type": "display_data"
    }
   ],
   "source": [
    "plt.plot(a, b)\n",
    "plt.plot(a[mask], b[mask], 'ro')\n",
    "plt.show()"
   ]
  },
  {
   "cell_type": "code",
   "execution_count": 23,
   "metadata": {
    "collapsed": false
   },
   "outputs": [
    {
     "data": {
      "text/plain": [
       "array([ True,  True,  True, False, False, False, False, False, False,\n",
       "       False, False, False, False, False, False, False, False, False,\n",
       "       False, False, False], dtype=bool)"
      ]
     },
     "execution_count": 23,
     "metadata": {},
     "output_type": "execute_result"
    }
   ],
   "source": [
    "mask2 = (b >= 0) & (a <= np.pi/4) ## parentheses are required due to order of operations\n",
    "mask2"
   ]
  },
  {
   "cell_type": "code",
   "execution_count": 24,
   "metadata": {
    "collapsed": false
   },
   "outputs": [
    {
     "data": {
      "image/png": "[encoded data removed]",
      "text/plain": [
       "<matplotlib.figure.Figure at 0x10d2efe10>"
      ]
     },
     "metadata": {},
     "output_type": "display_data"
    }
   ],
   "source": [
    "plt.plot(a, b)\n",
    "plt.plot(a[mask], b[mask], 'ro')\n",
    "plt.plot(a[mask2], b[mask2], 'go')\n",
    "plt.show()"
   ]
  },
  {
   "cell_type": "markdown",
   "metadata": {},
   "source": [
    "### Fancy indexing in 2D"
   ]
  },
  {
   "cell_type": "code",
   "execution_count": 25,
   "metadata": {
    "collapsed": false
   },
   "outputs": [
    {
     "data": {
      "text/plain": [
       "array([[ 0,  1,  2,  3,  4,  5],\n",
       "       [10, 11, 12, 13, 14, 15],\n",
       "       [20, 21, 22, 23, 24, 25],\n",
       "       [30, 31, 32, 33, 34, 35],\n",
       "       [40, 41, 42, 43, 44, 45],\n",
       "       [50, 51, 52, 53, 54, 55]])"
      ]
     },
     "execution_count": 25,
     "metadata": {},
     "output_type": "execute_result"
    }
   ],
   "source": [
    "# hacky 6x6 matrix again\n",
    "\n",
    "b = list(range(6))\n",
    "\n",
    "list_matrix = [b]*6\n",
    "list_matrix_mod = [list_matrix[0]]\n",
    "\n",
    "for i, row in enumerate(list_matrix[1:]):\n",
    "    str_list = [str(x) for x in row]\n",
    "    list_matrix_mod.append([int(str(i+1)+x) for x in str_list])\n",
    "\n",
    "b = np.array(list_matrix_mod)\n",
    "b"
   ]
  },
  {
   "cell_type": "code",
   "execution_count": 26,
   "metadata": {
    "collapsed": false,
    "scrolled": true
   },
   "outputs": [
    {
     "data": {
      "text/plain": [
       "array([ 1, 12, 23, 34, 45])"
      ]
     },
     "execution_count": 26,
     "metadata": {},
     "output_type": "execute_result"
    }
   ],
   "source": [
    "# offset diagonal\n",
    "\n",
    "b[(0, 1, 2, 3, 4), \n",
    "  (1, 2, 3, 4, 5)]"
   ]
  },
  {
   "cell_type": "code",
   "execution_count": 27,
   "metadata": {
    "collapsed": false
   },
   "outputs": [
    {
     "name": "stdout",
     "output_type": "stream",
     "text": [
      "[ 0 11 22 33 44 55]\n",
      "[ 1 12 23 34 45]\n"
     ]
    }
   ],
   "source": [
    "# another diagonal method\n",
    "# (drawback - this is a \"retriever\" - reads but can't write values)\n",
    "\n",
    "print(b.diagonal())\n",
    "\n",
    "print(b.diagonal(1))"
   ]
  },
  {
   "cell_type": "code",
   "execution_count": 28,
   "metadata": {
    "collapsed": false
   },
   "outputs": [
    {
     "data": {
      "text/plain": [
       "array([[30, 32, 35],\n",
       "       [40, 42, 45],\n",
       "       [50, 52, 55]])"
      ]
     },
     "execution_count": 28,
     "metadata": {},
     "output_type": "execute_result"
    }
   ],
   "source": [
    "# row 4+\n",
    "# columns 1, 3, 6\n",
    "\n",
    "b[3:, [0, 2, 5]]"
   ]
  },
  {
   "cell_type": "code",
   "execution_count": 29,
   "metadata": {
    "collapsed": false
   },
   "outputs": [
    {
     "data": {
      "text/plain": [
       "array([ 2, 22, 52])"
      ]
     },
     "execution_count": 29,
     "metadata": {},
     "output_type": "execute_result"
    }
   ],
   "source": [
    "mask = np.array([1,0,1,0,0,1], dtype=bool)\n",
    "b[mask, 2] # boolean mask applied to column #3"
   ]
  },
  {
   "cell_type": "markdown",
   "metadata": {},
   "source": [
    "### \"Incomplete\" indexing"
   ]
  },
  {
   "cell_type": "code",
   "execution_count": 30,
   "metadata": {
    "collapsed": false
   },
   "outputs": [
    {
     "data": {
      "text/plain": [
       "array([[ 0,  1,  2,  3,  4,  5],\n",
       "       [10, 11, 12, 13, 14, 15],\n",
       "       [20, 21, 22, 23, 24, 25],\n",
       "       [30, 31, 32, 33, 34, 35],\n",
       "       [40, 41, 42, 43, 44, 45]])"
      ]
     },
     "execution_count": 30,
     "metadata": {},
     "output_type": "execute_result"
    }
   ],
   "source": [
    "b[:-1]"
   ]
  },
  {
   "cell_type": "code",
   "execution_count": 31,
   "metadata": {
    "collapsed": false
   },
   "outputs": [
    {
     "data": {
      "text/plain": [
       "array([[ 0,  1,  2,  3,  4,  5],\n",
       "       [10, 11, 12, 13, 14, 15],\n",
       "       [20, 21, 22, 23, 24, 25]])"
      ]
     },
     "execution_count": 31,
     "metadata": {},
     "output_type": "execute_result"
    }
   ],
   "source": [
    "y = b[:-1][:3]\n",
    "y"
   ]
  },
  {
   "cell_type": "code",
   "execution_count": 32,
   "metadata": {
    "collapsed": false,
    "scrolled": true
   },
   "outputs": [
    {
     "data": {
      "text/plain": [
       "array([[10, 11, 12, 13, 14, 15],\n",
       "       [20, 21, 22, 23, 24, 25],\n",
       "       [40, 41, 42, 43, 44, 45]])"
      ]
     },
     "execution_count": 32,
     "metadata": {},
     "output_type": "execute_result"
    }
   ],
   "source": [
    "# condition = np.array([[0],[1],[1],[0],[1]], dtype=bool)\n",
    "condition = np.array([0,1,1,0,1], dtype=bool)\n",
    "y = b[:-1][condition]\n",
    "y"
   ]
  },
  {
   "cell_type": "markdown",
   "metadata": {},
   "source": [
    "## Where\n",
    "\n",
    "** Dimension ** - find the indices in array where expression is True"
   ]
  },
  {
   "cell_type": "code",
   "execution_count": 33,
   "metadata": {
    "collapsed": false
   },
   "outputs": [
    {
     "data": {
      "text/plain": [
       "array([False,  True, False,  True], dtype=bool)"
      ]
     },
     "execution_count": 33,
     "metadata": {},
     "output_type": "execute_result"
    }
   ],
   "source": [
    "# create a mask\n",
    "a = np.array([0,12,5,20])\n",
    "a > 10"
   ]
  },
  {
   "cell_type": "code",
   "execution_count": 34,
   "metadata": {
    "collapsed": false
   },
   "outputs": [
    {
     "data": {
      "text/plain": [
       "(array([1, 3]),)"
      ]
     },
     "execution_count": 34,
     "metadata": {},
     "output_type": "execute_result"
    }
   ],
   "source": [
    "# Note: it returns a tuple!\n",
    "np.where(a > 10)"
   ]
  },
  {
   "cell_type": "markdown",
   "metadata": {},
   "source": [
    "**np.where** in ***n*** dimensions"
   ]
  },
  {
   "cell_type": "code",
   "execution_count": 35,
   "metadata": {
    "collapsed": false,
    "scrolled": true
   },
   "outputs": [
    {
     "name": "stdout",
     "output_type": "stream",
     "text": [
      "[[ 0 12  5 20]\n",
      " [ 1  2 11 15]]\n"
     ]
    },
    {
     "data": {
      "text/plain": [
       "(array([0, 0, 1, 1]), array([1, 3, 2, 3]))"
      ]
     },
     "execution_count": 35,
     "metadata": {},
     "output_type": "execute_result"
    }
   ],
   "source": [
    "# np.where in n Dimensions\n",
    "\n",
    "# in general, the tuple returned is the \n",
    "# index of the element satisfying the \n",
    "# condition in each dimension\n",
    "\n",
    "a = np.array([[0, 12, 5, 20],\n",
    "              [1, 2, 11, 15]\n",
    "             ])\n",
    "print(a)\n",
    "loc = np.where(a > 10)\n",
    "loc"
   ]
  },
  {
   "cell_type": "code",
   "execution_count": 36,
   "metadata": {
    "collapsed": false
   },
   "outputs": [
    {
     "name": "stdout",
     "output_type": "stream",
     "text": [
      "[[ 0 12  5 20]\n",
      " [ 1  2 11 15]\n",
      " [ 5  6 27 13]]\n"
     ]
    },
    {
     "data": {
      "text/plain": [
       "(array([0, 0, 1, 1, 2, 2]), array([1, 3, 2, 3, 2, 3]))"
      ]
     },
     "execution_count": 36,
     "metadata": {},
     "output_type": "execute_result"
    }
   ],
   "source": [
    "a = np.array([[0, 12, 5, 20],\n",
    "              [1, 2, 11, 15],\n",
    "              [5, 6, 27, 13]\n",
    "              ])\n",
    "\n",
    "print(a)\n",
    "\n",
    "np.where(a > 10)"
   ]
  },
  {
   "cell_type": "code",
   "execution_count": null,
   "metadata": {
    "collapsed": true
   },
   "outputs": [],
   "source": []
  }
 ],
 "metadata": {
  "kernelspec": {
   "display_name": "Python 3",
   "language": "python",
   "name": "python3"
  },
  "language_info": {
   "codemirror_mode": {
    "name": "ipython",
    "version": 3
   },
   "file_extension": ".py",
   "mimetype": "text/x-python",
   "name": "python",
   "nbconvert_exporter": "python",
   "pygments_lexer": "ipython3",
   "version": "3.5.1"
  }
 },
 "nbformat": 4,
 "nbformat_minor": 0
}
